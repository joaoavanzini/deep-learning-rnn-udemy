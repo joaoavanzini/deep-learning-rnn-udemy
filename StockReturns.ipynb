{
  "nbformat": 4,
  "nbformat_minor": 0,
  "metadata": {
    "colab": {
      "name": "StockReturns.ipynb",
      "provenance": [],
      "collapsed_sections": [],
      "authorship_tag": "ABX9TyPcpRIj92dq7AR2fLk2Dd23",
      "include_colab_link": true
    },
    "kernelspec": {
      "name": "python3",
      "display_name": "Python 3"
    },
    "language_info": {
      "name": "python"
    }
  },
  "cells": [
    {
      "cell_type": "markdown",
      "metadata": {
        "id": "view-in-github",
        "colab_type": "text"
      },
      "source": [
        "<a href=\"https://colab.research.google.com/github/jvpalhares/deep-learning-rnn-udemy/blob/main/StockReturns.ipynb\" target=\"_parent\"><img src=\"https://colab.research.google.com/assets/colab-badge.svg\" alt=\"Open In Colab\"/></a>"
      ]
    },
    {
      "cell_type": "code",
      "metadata": {
        "colab": {
          "base_uri": "https://localhost:8080/"
        },
        "id": "66xeCYwPxwRv",
        "outputId": "d5c18eeb-4d32-478a-81e7-22ce4353e261"
      },
      "source": [
        "# Install TensorFlow\n",
        "# !pip install -q tensorflow-gpu==2.0.0-beta1\n",
        "\n",
        "try:\n",
        "  %tensorflow_version 2.x  # Colab only.\n",
        "except Exception:\n",
        "  pass\n",
        "\n",
        "import tensorflow as tf\n",
        "print(tf.__version__)"
      ],
      "execution_count": 1,
      "outputs": [
        {
          "output_type": "stream",
          "name": "stdout",
          "text": [
            "`%tensorflow_version` only switches the major version: 1.x or 2.x.\n",
            "You set: `2.x  # Colab only.`. This will be interpreted as: `2.x`.\n",
            "\n",
            "\n",
            "TensorFlow 2.x selected.\n",
            "2.7.0\n"
          ]
        }
      ]
    },
    {
      "cell_type": "code",
      "metadata": {
        "id": "5hzkE25sx2jO"
      },
      "source": [
        "# More imports\n",
        "from tensorflow.keras.layers import Input, LSTM, GRU, SimpleRNN, Dense, GlobalMaxPool1D\n",
        "from tensorflow.keras.models import Model\n",
        "from tensorflow.keras.optimizers import SGD, Adam\n",
        "\n",
        "import numpy as np\n",
        "import pandas as pd\n",
        "import matplotlib.pyplot as plt\n",
        "from sklearn.preprocessing import StandardScaler"
      ],
      "execution_count": 2,
      "outputs": []
    },
    {
      "cell_type": "code",
      "metadata": {
        "id": "UzlCCpw9ylTU"
      },
      "source": [
        "# yes, you can read dataframes from URLs!\n",
        "df = pd.read_csv('https://raw.githubusercontent.com/lazyprogrammer/machine_learning_examples/master/tf2.0/sbux.csv')"
      ],
      "execution_count": 3,
      "outputs": []
    },
    {
      "cell_type": "code",
      "metadata": {
        "colab": {
          "base_uri": "https://localhost:8080/",
          "height": 206
        },
        "id": "wUDM0iFtynqc",
        "outputId": "44d0fc08-b3da-4df4-916a-6f3306202df7"
      },
      "source": [
        "df.head()"
      ],
      "execution_count": 4,
      "outputs": [
        {
          "output_type": "execute_result",
          "data": {
            "text/html": [
              "<div>\n",
              "<style scoped>\n",
              "    .dataframe tbody tr th:only-of-type {\n",
              "        vertical-align: middle;\n",
              "    }\n",
              "\n",
              "    .dataframe tbody tr th {\n",
              "        vertical-align: top;\n",
              "    }\n",
              "\n",
              "    .dataframe thead th {\n",
              "        text-align: right;\n",
              "    }\n",
              "</style>\n",
              "<table border=\"1\" class=\"dataframe\">\n",
              "  <thead>\n",
              "    <tr style=\"text-align: right;\">\n",
              "      <th></th>\n",
              "      <th>date</th>\n",
              "      <th>open</th>\n",
              "      <th>high</th>\n",
              "      <th>low</th>\n",
              "      <th>close</th>\n",
              "      <th>volume</th>\n",
              "      <th>Name</th>\n",
              "    </tr>\n",
              "  </thead>\n",
              "  <tbody>\n",
              "    <tr>\n",
              "      <th>0</th>\n",
              "      <td>2013-02-08</td>\n",
              "      <td>27.920</td>\n",
              "      <td>28.325</td>\n",
              "      <td>27.920</td>\n",
              "      <td>28.185</td>\n",
              "      <td>7146296</td>\n",
              "      <td>SBUX</td>\n",
              "    </tr>\n",
              "    <tr>\n",
              "      <th>1</th>\n",
              "      <td>2013-02-11</td>\n",
              "      <td>28.260</td>\n",
              "      <td>28.260</td>\n",
              "      <td>27.930</td>\n",
              "      <td>28.070</td>\n",
              "      <td>5457354</td>\n",
              "      <td>SBUX</td>\n",
              "    </tr>\n",
              "    <tr>\n",
              "      <th>2</th>\n",
              "      <td>2013-02-12</td>\n",
              "      <td>28.000</td>\n",
              "      <td>28.275</td>\n",
              "      <td>27.975</td>\n",
              "      <td>28.130</td>\n",
              "      <td>8665592</td>\n",
              "      <td>SBUX</td>\n",
              "    </tr>\n",
              "    <tr>\n",
              "      <th>3</th>\n",
              "      <td>2013-02-13</td>\n",
              "      <td>28.230</td>\n",
              "      <td>28.230</td>\n",
              "      <td>27.750</td>\n",
              "      <td>27.915</td>\n",
              "      <td>7022056</td>\n",
              "      <td>SBUX</td>\n",
              "    </tr>\n",
              "    <tr>\n",
              "      <th>4</th>\n",
              "      <td>2013-02-14</td>\n",
              "      <td>27.765</td>\n",
              "      <td>27.905</td>\n",
              "      <td>27.675</td>\n",
              "      <td>27.775</td>\n",
              "      <td>8899188</td>\n",
              "      <td>SBUX</td>\n",
              "    </tr>\n",
              "  </tbody>\n",
              "</table>\n",
              "</div>"
            ],
            "text/plain": [
              "         date    open    high     low   close   volume  Name\n",
              "0  2013-02-08  27.920  28.325  27.920  28.185  7146296  SBUX\n",
              "1  2013-02-11  28.260  28.260  27.930  28.070  5457354  SBUX\n",
              "2  2013-02-12  28.000  28.275  27.975  28.130  8665592  SBUX\n",
              "3  2013-02-13  28.230  28.230  27.750  27.915  7022056  SBUX\n",
              "4  2013-02-14  27.765  27.905  27.675  27.775  8899188  SBUX"
            ]
          },
          "metadata": {},
          "execution_count": 4
        }
      ]
    },
    {
      "cell_type": "code",
      "metadata": {
        "colab": {
          "base_uri": "https://localhost:8080/",
          "height": 206
        },
        "id": "OTI3faFPyqQ8",
        "outputId": "78fcd9ad-881e-4d9d-eb1b-94cf85b72676"
      },
      "source": [
        "df.tail()"
      ],
      "execution_count": 5,
      "outputs": [
        {
          "output_type": "execute_result",
          "data": {
            "text/html": [
              "<div>\n",
              "<style scoped>\n",
              "    .dataframe tbody tr th:only-of-type {\n",
              "        vertical-align: middle;\n",
              "    }\n",
              "\n",
              "    .dataframe tbody tr th {\n",
              "        vertical-align: top;\n",
              "    }\n",
              "\n",
              "    .dataframe thead th {\n",
              "        text-align: right;\n",
              "    }\n",
              "</style>\n",
              "<table border=\"1\" class=\"dataframe\">\n",
              "  <thead>\n",
              "    <tr style=\"text-align: right;\">\n",
              "      <th></th>\n",
              "      <th>date</th>\n",
              "      <th>open</th>\n",
              "      <th>high</th>\n",
              "      <th>low</th>\n",
              "      <th>close</th>\n",
              "      <th>volume</th>\n",
              "      <th>Name</th>\n",
              "    </tr>\n",
              "  </thead>\n",
              "  <tbody>\n",
              "    <tr>\n",
              "      <th>1254</th>\n",
              "      <td>2018-02-01</td>\n",
              "      <td>56.280</td>\n",
              "      <td>56.42</td>\n",
              "      <td>55.89</td>\n",
              "      <td>56.00</td>\n",
              "      <td>14690146</td>\n",
              "      <td>SBUX</td>\n",
              "    </tr>\n",
              "    <tr>\n",
              "      <th>1255</th>\n",
              "      <td>2018-02-02</td>\n",
              "      <td>55.900</td>\n",
              "      <td>56.32</td>\n",
              "      <td>55.70</td>\n",
              "      <td>55.77</td>\n",
              "      <td>15358909</td>\n",
              "      <td>SBUX</td>\n",
              "    </tr>\n",
              "    <tr>\n",
              "      <th>1256</th>\n",
              "      <td>2018-02-05</td>\n",
              "      <td>55.530</td>\n",
              "      <td>56.26</td>\n",
              "      <td>54.57</td>\n",
              "      <td>54.69</td>\n",
              "      <td>16059955</td>\n",
              "      <td>SBUX</td>\n",
              "    </tr>\n",
              "    <tr>\n",
              "      <th>1257</th>\n",
              "      <td>2018-02-06</td>\n",
              "      <td>53.685</td>\n",
              "      <td>56.06</td>\n",
              "      <td>53.56</td>\n",
              "      <td>55.61</td>\n",
              "      <td>17415065</td>\n",
              "      <td>SBUX</td>\n",
              "    </tr>\n",
              "    <tr>\n",
              "      <th>1258</th>\n",
              "      <td>2018-02-07</td>\n",
              "      <td>55.080</td>\n",
              "      <td>55.43</td>\n",
              "      <td>54.44</td>\n",
              "      <td>54.46</td>\n",
              "      <td>13927022</td>\n",
              "      <td>SBUX</td>\n",
              "    </tr>\n",
              "  </tbody>\n",
              "</table>\n",
              "</div>"
            ],
            "text/plain": [
              "            date    open   high    low  close    volume  Name\n",
              "1254  2018-02-01  56.280  56.42  55.89  56.00  14690146  SBUX\n",
              "1255  2018-02-02  55.900  56.32  55.70  55.77  15358909  SBUX\n",
              "1256  2018-02-05  55.530  56.26  54.57  54.69  16059955  SBUX\n",
              "1257  2018-02-06  53.685  56.06  53.56  55.61  17415065  SBUX\n",
              "1258  2018-02-07  55.080  55.43  54.44  54.46  13927022  SBUX"
            ]
          },
          "metadata": {},
          "execution_count": 5
        }
      ]
    },
    {
      "cell_type": "code",
      "metadata": {
        "id": "7KaJ5gHjyrCV"
      },
      "source": [
        "# Start by doing the WRONG thing - trying to predict the price itself\n",
        "series = df['close'].values.reshape(-1, 1)"
      ],
      "execution_count": 7,
      "outputs": []
    },
    {
      "cell_type": "code",
      "metadata": {
        "id": "AjN68w9Jz66x"
      },
      "source": [
        "# Normalize the data\n",
        "# Note: I didn't think about the true boundary is, this is just approx.\n",
        "scaler = StandardScaler()\n",
        "scaler.fit(series[:len(series) // 2])\n",
        "series = scaler.transform(series).flatten()"
      ],
      "execution_count": 8,
      "outputs": []
    },
    {
      "cell_type": "code",
      "metadata": {
        "colab": {
          "base_uri": "https://localhost:8080/"
        },
        "id": "nRp_Sm-u0Mfw",
        "outputId": "63b4ce34-69f2-45f1-d1d2-272bd0614815"
      },
      "source": [
        "### build the dataset\n",
        "# let's see if we can use T past values to predict the next value\n",
        "T = 10\n",
        "D = 1\n",
        "X = []\n",
        "Y = []\n",
        "for t in range(len(series) - T):\n",
        "  x = series[t:t+T]\n",
        "  X.append(x)\n",
        "  y = series[t+T]\n",
        "  Y.append(y)\n",
        "\n",
        "X = np.array(X).reshape(-1, T, 1) # Now the data should be N x T x D\n",
        "Y = np.array(Y)\n",
        "N = len(X)\n",
        "print(\"X.shape\", X.shape, \"Y.shape\", Y.shape)"
      ],
      "execution_count": 9,
      "outputs": [
        {
          "output_type": "stream",
          "name": "stdout",
          "text": [
            "X.shape (1249, 10, 1) Y.shape (1249,)\n"
          ]
        }
      ]
    },
    {
      "cell_type": "code",
      "metadata": {
        "colab": {
          "base_uri": "https://localhost:8080/"
        },
        "id": "Mty4SQ5209kf",
        "outputId": "4d30e354-1f0b-4aa1-89c7-7819ac263213"
      },
      "source": [
        "### try autoregressive RNN model\n",
        "i = Input(shape=(T, 1))\n",
        "x = LSTM(5)(i)\n",
        "x = Dense(1)(x)\n",
        "model = Model(i, x)\n",
        "model.compile(\n",
        "  loss='mse',\n",
        "  optimizer=Adam(lr=0.1),\n",
        ")\n",
        "\n",
        "# train the RNN\n",
        "r = model.fit(\n",
        "  X[:-N//2], Y[:-N//2],\n",
        "  epochs=80,\n",
        "  validation_data=(X[-N//2:], Y[-N//2:]),\n",
        ")"
      ],
      "execution_count": 12,
      "outputs": [
        {
          "output_type": "stream",
          "name": "stderr",
          "text": [
            "/usr/local/lib/python3.7/dist-packages/keras/optimizer_v2/adam.py:105: UserWarning: The `lr` argument is deprecated, use `learning_rate` instead.\n",
            "  super(Adam, self).__init__(name, **kwargs)\n"
          ]
        },
        {
          "output_type": "stream",
          "name": "stdout",
          "text": [
            "Epoch 1/80\n",
            "20/20 [==============================] - 2s 27ms/step - loss: 0.1513 - val_loss: 0.5511\n",
            "Epoch 2/80\n",
            "20/20 [==============================] - 0s 6ms/step - loss: 0.0216 - val_loss: 0.0528\n",
            "Epoch 3/80\n",
            "20/20 [==============================] - 0s 6ms/step - loss: 0.0070 - val_loss: 0.0446\n",
            "Epoch 4/80\n",
            "20/20 [==============================] - 0s 8ms/step - loss: 0.0066 - val_loss: 0.0573\n",
            "Epoch 5/80\n",
            "20/20 [==============================] - 0s 6ms/step - loss: 0.0069 - val_loss: 0.0416\n",
            "Epoch 6/80\n",
            "20/20 [==============================] - 0s 6ms/step - loss: 0.0055 - val_loss: 0.0422\n",
            "Epoch 7/80\n",
            "20/20 [==============================] - 0s 8ms/step - loss: 0.0078 - val_loss: 0.0465\n",
            "Epoch 8/80\n",
            "20/20 [==============================] - 0s 8ms/step - loss: 0.0069 - val_loss: 0.0563\n",
            "Epoch 9/80\n",
            "20/20 [==============================] - 0s 8ms/step - loss: 0.0067 - val_loss: 0.0450\n",
            "Epoch 10/80\n",
            "20/20 [==============================] - 0s 8ms/step - loss: 0.0066 - val_loss: 0.0404\n",
            "Epoch 11/80\n",
            "20/20 [==============================] - 0s 6ms/step - loss: 0.0070 - val_loss: 0.0468\n",
            "Epoch 12/80\n",
            "20/20 [==============================] - 0s 6ms/step - loss: 0.0064 - val_loss: 0.0449\n",
            "Epoch 13/80\n",
            "20/20 [==============================] - 0s 8ms/step - loss: 0.0062 - val_loss: 0.0460\n",
            "Epoch 14/80\n",
            "20/20 [==============================] - 0s 8ms/step - loss: 0.0063 - val_loss: 0.0458\n",
            "Epoch 15/80\n",
            "20/20 [==============================] - 0s 6ms/step - loss: 0.0060 - val_loss: 0.0488\n",
            "Epoch 16/80\n",
            "20/20 [==============================] - 0s 8ms/step - loss: 0.0056 - val_loss: 0.0592\n",
            "Epoch 17/80\n",
            "20/20 [==============================] - 0s 8ms/step - loss: 0.0052 - val_loss: 0.0451\n",
            "Epoch 18/80\n",
            "20/20 [==============================] - 0s 8ms/step - loss: 0.0058 - val_loss: 0.0594\n",
            "Epoch 19/80\n",
            "20/20 [==============================] - 0s 8ms/step - loss: 0.0060 - val_loss: 0.0444\n",
            "Epoch 20/80\n",
            "20/20 [==============================] - 0s 6ms/step - loss: 0.0058 - val_loss: 0.0402\n",
            "Epoch 21/80\n",
            "20/20 [==============================] - 0s 6ms/step - loss: 0.0063 - val_loss: 0.0426\n",
            "Epoch 22/80\n",
            "20/20 [==============================] - 0s 8ms/step - loss: 0.0071 - val_loss: 0.0463\n",
            "Epoch 23/80\n",
            "20/20 [==============================] - 0s 7ms/step - loss: 0.0069 - val_loss: 0.0461\n",
            "Epoch 24/80\n",
            "20/20 [==============================] - 0s 7ms/step - loss: 0.0061 - val_loss: 0.0470\n",
            "Epoch 25/80\n",
            "20/20 [==============================] - 0s 8ms/step - loss: 0.0064 - val_loss: 0.0467\n",
            "Epoch 26/80\n",
            "20/20 [==============================] - 0s 6ms/step - loss: 0.0066 - val_loss: 0.0487\n",
            "Epoch 27/80\n",
            "20/20 [==============================] - 0s 6ms/step - loss: 0.0054 - val_loss: 0.0372\n",
            "Epoch 28/80\n",
            "20/20 [==============================] - 0s 6ms/step - loss: 0.0062 - val_loss: 0.0410\n",
            "Epoch 29/80\n",
            "20/20 [==============================] - 0s 6ms/step - loss: 0.0062 - val_loss: 0.0735\n",
            "Epoch 30/80\n",
            "20/20 [==============================] - 0s 8ms/step - loss: 0.0068 - val_loss: 0.0544\n",
            "Epoch 31/80\n",
            "20/20 [==============================] - 0s 8ms/step - loss: 0.0062 - val_loss: 0.0390\n",
            "Epoch 32/80\n",
            "20/20 [==============================] - 0s 8ms/step - loss: 0.0052 - val_loss: 0.0487\n",
            "Epoch 33/80\n",
            "20/20 [==============================] - 0s 7ms/step - loss: 0.0051 - val_loss: 0.0362\n",
            "Epoch 34/80\n",
            "20/20 [==============================] - 0s 8ms/step - loss: 0.0051 - val_loss: 0.0309\n",
            "Epoch 35/80\n",
            "20/20 [==============================] - 0s 8ms/step - loss: 0.0058 - val_loss: 0.0317\n",
            "Epoch 36/80\n",
            "20/20 [==============================] - 0s 6ms/step - loss: 0.0062 - val_loss: 0.0307\n",
            "Epoch 37/80\n",
            "20/20 [==============================] - 0s 8ms/step - loss: 0.0065 - val_loss: 0.0370\n",
            "Epoch 38/80\n",
            "20/20 [==============================] - 0s 8ms/step - loss: 0.0057 - val_loss: 0.0362\n",
            "Epoch 39/80\n",
            "20/20 [==============================] - 0s 7ms/step - loss: 0.0054 - val_loss: 0.0455\n",
            "Epoch 40/80\n",
            "20/20 [==============================] - 0s 9ms/step - loss: 0.0073 - val_loss: 0.0340\n",
            "Epoch 41/80\n",
            "20/20 [==============================] - 0s 8ms/step - loss: 0.0055 - val_loss: 0.0362\n",
            "Epoch 42/80\n",
            "20/20 [==============================] - 0s 8ms/step - loss: 0.0054 - val_loss: 0.0397\n",
            "Epoch 43/80\n",
            "20/20 [==============================] - 0s 8ms/step - loss: 0.0056 - val_loss: 0.0395\n",
            "Epoch 44/80\n",
            "20/20 [==============================] - 0s 8ms/step - loss: 0.0061 - val_loss: 0.0454\n",
            "Epoch 45/80\n",
            "20/20 [==============================] - 0s 6ms/step - loss: 0.0058 - val_loss: 0.0400\n",
            "Epoch 46/80\n",
            "20/20 [==============================] - 0s 8ms/step - loss: 0.0055 - val_loss: 0.0347\n",
            "Epoch 47/80\n",
            "20/20 [==============================] - 0s 6ms/step - loss: 0.0057 - val_loss: 0.0507\n",
            "Epoch 48/80\n",
            "20/20 [==============================] - 0s 6ms/step - loss: 0.0075 - val_loss: 0.0371\n",
            "Epoch 49/80\n",
            "20/20 [==============================] - 0s 8ms/step - loss: 0.0063 - val_loss: 0.0305\n",
            "Epoch 50/80\n",
            "20/20 [==============================] - 0s 6ms/step - loss: 0.0060 - val_loss: 0.0422\n",
            "Epoch 51/80\n",
            "20/20 [==============================] - 0s 8ms/step - loss: 0.0058 - val_loss: 0.0415\n",
            "Epoch 52/80\n",
            "20/20 [==============================] - 0s 8ms/step - loss: 0.0055 - val_loss: 0.0313\n",
            "Epoch 53/80\n",
            "20/20 [==============================] - 0s 6ms/step - loss: 0.0067 - val_loss: 0.0353\n",
            "Epoch 54/80\n",
            "20/20 [==============================] - 0s 8ms/step - loss: 0.0069 - val_loss: 0.0392\n",
            "Epoch 55/80\n",
            "20/20 [==============================] - 0s 6ms/step - loss: 0.0065 - val_loss: 0.0386\n",
            "Epoch 56/80\n",
            "20/20 [==============================] - 0s 8ms/step - loss: 0.0055 - val_loss: 0.0367\n",
            "Epoch 57/80\n",
            "20/20 [==============================] - 0s 8ms/step - loss: 0.0061 - val_loss: 0.0351\n",
            "Epoch 58/80\n",
            "20/20 [==============================] - 0s 8ms/step - loss: 0.0063 - val_loss: 0.0323\n",
            "Epoch 59/80\n",
            "20/20 [==============================] - 0s 6ms/step - loss: 0.0060 - val_loss: 0.0362\n",
            "Epoch 60/80\n",
            "20/20 [==============================] - 0s 8ms/step - loss: 0.0062 - val_loss: 0.0407\n",
            "Epoch 61/80\n",
            "20/20 [==============================] - 0s 8ms/step - loss: 0.0061 - val_loss: 0.0369\n",
            "Epoch 62/80\n",
            "20/20 [==============================] - 0s 6ms/step - loss: 0.0061 - val_loss: 0.0390\n",
            "Epoch 63/80\n",
            "20/20 [==============================] - 0s 8ms/step - loss: 0.0068 - val_loss: 0.0366\n",
            "Epoch 64/80\n",
            "20/20 [==============================] - 0s 8ms/step - loss: 0.0080 - val_loss: 0.0385\n",
            "Epoch 65/80\n",
            "20/20 [==============================] - 0s 8ms/step - loss: 0.0055 - val_loss: 0.0348\n",
            "Epoch 66/80\n",
            "20/20 [==============================] - 0s 6ms/step - loss: 0.0055 - val_loss: 0.0426\n",
            "Epoch 67/80\n",
            "20/20 [==============================] - 0s 6ms/step - loss: 0.0055 - val_loss: 0.0403\n",
            "Epoch 68/80\n",
            "20/20 [==============================] - 0s 6ms/step - loss: 0.0060 - val_loss: 0.0346\n",
            "Epoch 69/80\n",
            "20/20 [==============================] - 0s 6ms/step - loss: 0.0063 - val_loss: 0.0294\n",
            "Epoch 70/80\n",
            "20/20 [==============================] - 0s 6ms/step - loss: 0.0063 - val_loss: 0.0354\n",
            "Epoch 71/80\n",
            "20/20 [==============================] - 0s 8ms/step - loss: 0.0053 - val_loss: 0.0284\n",
            "Epoch 72/80\n",
            "20/20 [==============================] - 0s 8ms/step - loss: 0.0058 - val_loss: 0.0455\n",
            "Epoch 73/80\n",
            "20/20 [==============================] - 0s 8ms/step - loss: 0.0072 - val_loss: 0.0367\n",
            "Epoch 74/80\n",
            "20/20 [==============================] - 0s 8ms/step - loss: 0.0071 - val_loss: 0.0318\n",
            "Epoch 75/80\n",
            "20/20 [==============================] - 0s 8ms/step - loss: 0.0058 - val_loss: 0.0429\n",
            "Epoch 76/80\n",
            "20/20 [==============================] - 0s 8ms/step - loss: 0.0066 - val_loss: 0.0610\n",
            "Epoch 77/80\n",
            "20/20 [==============================] - 0s 7ms/step - loss: 0.0060 - val_loss: 0.0332\n",
            "Epoch 78/80\n",
            "20/20 [==============================] - 0s 6ms/step - loss: 0.0051 - val_loss: 0.0294\n",
            "Epoch 79/80\n",
            "20/20 [==============================] - 0s 6ms/step - loss: 0.0076 - val_loss: 0.0386\n",
            "Epoch 80/80\n",
            "20/20 [==============================] - 0s 7ms/step - loss: 0.0070 - val_loss: 0.0504\n"
          ]
        }
      ]
    },
    {
      "cell_type": "code",
      "metadata": {
        "colab": {
          "base_uri": "https://localhost:8080/",
          "height": 283
        },
        "id": "AYQdAXbm1id9",
        "outputId": "4d5c70bc-1eff-495f-ac2f-0bc548332e3f"
      },
      "source": [
        "# Plot loss per iteration\n",
        "import matplotlib.pyplot as plt\n",
        "plt.plot(r.history['loss'], label='loss')\n",
        "plt.plot(r.history['val_loss'], label='val_loss')\n",
        "plt.legend()"
      ],
      "execution_count": 13,
      "outputs": [
        {
          "output_type": "execute_result",
          "data": {
            "text/plain": [
              "<matplotlib.legend.Legend at 0x7f0a8ef982d0>"
            ]
          },
          "metadata": {},
          "execution_count": 13
        },
        {
          "output_type": "display_data",
          "data": {
            "image/png": "[encoded data removed]",
            "text/plain": [
              "<Figure size 432x288 with 1 Axes>"
            ]
          },
          "metadata": {
            "needs_background": "light"
          }
        }
      ]
    },
    {
      "cell_type": "code",
      "metadata": {
        "colab": {
          "base_uri": "https://localhost:8080/",
          "height": 283
        },
        "id": "EwUpOUag1zgz",
        "outputId": "cea61767-e6f9-4cc4-8e07-d5f00909ad32"
      },
      "source": [
        "# One-step forecast using true targets\n",
        "outputs = model.predict(X)\n",
        "print(outputs.shape)\n",
        "predictions = outputs[:,0]\n",
        "\n",
        "plt.plot(Y, label='targets')\n",
        "plt.plot(predictions, label='predictions')\n",
        "plt.legend()\n",
        "plt.show()"
      ],
      "execution_count": 14,
      "outputs": [
        {
          "output_type": "stream",
          "name": "stdout",
          "text": [
            "(1249, 1)\n"
          ]
        },
        {
          "output_type": "display_data",
          "data": {
            "image/png": "[encoded data removed]",
            "text/plain": [
              "<Figure size 432x288 with 1 Axes>"
            ]
          },
          "metadata": {
            "needs_background": "light"
          }
        }
      ]
    },
    {
      "cell_type": "code",
      "metadata": {
        "colab": {
          "base_uri": "https://localhost:8080/",
          "height": 283
        },
        "id": "weGCIXhv2Cn8",
        "outputId": "9ee4f10e-7936-4d92-cf81-dd209c939265"
      },
      "source": [
        "# Multi-step forecast\n",
        "validation_target = Y[-N//2:]\n",
        "validation_predictions = []\n",
        "\n",
        "# first validation input\n",
        "last_x = X[-N//2] # 1-D array of length T\n",
        "\n",
        "while len(validation_predictions) < len(validation_target):\n",
        "  p = model.predict(last_x.reshape(1, T, 1))[0,0] # 1x1 array -> scalar\n",
        "  \n",
        "  # update the predictions list\n",
        "  validation_predictions.append(p)\n",
        "  \n",
        "  # make the new input\n",
        "  last_x = np.roll(last_x, -1)\n",
        "  last_x[-1] = p\n",
        "\n",
        "plt.plot(validation_target, label='forecast target')\n",
        "plt.plot(validation_predictions, label='forecast prediction')\n",
        "plt.legend()"
      ],
      "execution_count": 15,
      "outputs": [
        {
          "output_type": "execute_result",
          "data": {
            "text/plain": [
              "<matplotlib.legend.Legend at 0x7f0a8ea5d9d0>"
            ]
          },
          "metadata": {},
          "execution_count": 15
        },
        {
          "output_type": "display_data",
          "data": {
            "image/png": "[encoded data removed]",
            "text/plain": [
              "<Figure size 432x288 with 1 Axes>"
            ]
          },
          "metadata": {
            "needs_background": "light"
          }
        }
      ]
    }
  ]
}